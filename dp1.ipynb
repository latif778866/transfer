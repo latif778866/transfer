{
 "cells": [
  {
   "cell_type": "code",
   "execution_count": 4,
   "id": "e3ed8871",
   "metadata": {},
   "outputs": [],
   "source": [
    "import numpy as np\n",
    "import pandas as pd\n",
    "import matplotlib.pyplot as plt\n",
    "import warnings\n",
    "import os"
   ]
  },
  {
   "cell_type": "code",
   "execution_count": 5,
   "id": "93e1daaf",
   "metadata": {},
   "outputs": [],
   "source": [
    "root_folder_train = r'C:\\Users\\acer\\Desktop\\rwork1\\train'\n",
    "root_folder_test = r'C:\\Users\\acer\\Desktop\\rwork1\\test'\n",
    "category = ['Normal', 'Abnormal']\n",
    "destination = r'C:\\Users\\acer\\Desktop\\latif ready data'"
   ]
  },
  {
   "cell_type": "code",
   "execution_count": 6,
   "id": "c0b82a91",
   "metadata": {},
   "outputs": [],
   "source": [
    "def load_data(root_folder):\n",
    "    for cat in category:\n",
    "        for filename in os.listdir(os.path.join(root_folder, cat)):\n",
    "            path = os.path.join(root_folder, cat, filename)\n",
    "             # Print debugging information\n",
    "            print(f\"Processing file: {path}\")"
   ]
  },
  {
   "cell_type": "code",
   "execution_count": 7,
   "id": "94cdaa6c",
   "metadata": {},
   "outputs": [
    {
     "name": "stdout",
     "output_type": "stream",
     "text": [
      "Processing file: C:\\Users\\acer\\Desktop\\rwork1\\train\\Normal\\samples (10).csv\n",
      "Processing file: C:\\Users\\acer\\Desktop\\rwork1\\train\\Normal\\samples (11).csv\n",
      "Processing file: C:\\Users\\acer\\Desktop\\rwork1\\train\\Normal\\samples (12).csv\n",
      "Processing file: C:\\Users\\acer\\Desktop\\rwork1\\train\\Normal\\samples (13).csv\n",
      "Processing file: C:\\Users\\acer\\Desktop\\rwork1\\train\\Normal\\samples (14).csv\n",
      "Processing file: C:\\Users\\acer\\Desktop\\rwork1\\train\\Normal\\samples (15).csv\n",
      "Processing file: C:\\Users\\acer\\Desktop\\rwork1\\train\\Normal\\samples (3).csv\n",
      "Processing file: C:\\Users\\acer\\Desktop\\rwork1\\train\\Normal\\samples (4).csv\n",
      "Processing file: C:\\Users\\acer\\Desktop\\rwork1\\train\\Normal\\samples (5).csv\n",
      "Processing file: C:\\Users\\acer\\Desktop\\rwork1\\train\\Normal\\samples (6).csv\n",
      "Processing file: C:\\Users\\acer\\Desktop\\rwork1\\train\\Normal\\samples (7).csv\n",
      "Processing file: C:\\Users\\acer\\Desktop\\rwork1\\train\\Normal\\samples (8).csv\n",
      "Processing file: C:\\Users\\acer\\Desktop\\rwork1\\train\\Normal\\samples (9).csv\n",
      "Processing file: C:\\Users\\acer\\Desktop\\rwork1\\train\\Abnormal\\samples (10).csv\n",
      "Processing file: C:\\Users\\acer\\Desktop\\rwork1\\train\\Abnormal\\samples (11).csv\n",
      "Processing file: C:\\Users\\acer\\Desktop\\rwork1\\train\\Abnormal\\samples (12).csv\n",
      "Processing file: C:\\Users\\acer\\Desktop\\rwork1\\train\\Abnormal\\samples (13).csv\n",
      "Processing file: C:\\Users\\acer\\Desktop\\rwork1\\train\\Abnormal\\samples (14).csv\n",
      "Processing file: C:\\Users\\acer\\Desktop\\rwork1\\train\\Abnormal\\samples (3).csv\n",
      "Processing file: C:\\Users\\acer\\Desktop\\rwork1\\train\\Abnormal\\samples (4).csv\n",
      "Processing file: C:\\Users\\acer\\Desktop\\rwork1\\train\\Abnormal\\samples (5).csv\n",
      "Processing file: C:\\Users\\acer\\Desktop\\rwork1\\train\\Abnormal\\samples (6).csv\n",
      "Processing file: C:\\Users\\acer\\Desktop\\rwork1\\train\\Abnormal\\samples (7).csv\n",
      "Processing file: C:\\Users\\acer\\Desktop\\rwork1\\train\\Abnormal\\samples (8).csv\n",
      "Processing file: C:\\Users\\acer\\Desktop\\rwork1\\train\\Abnormal\\samples (9).csv\n",
      "Processing file: C:\\Users\\acer\\Desktop\\rwork1\\train\\Abnormal\\samples.csv\n"
     ]
    }
   ],
   "source": [
    "load_data(root_folder_train)"
   ]
  },
  {
   "cell_type": "code",
   "execution_count": null,
   "id": "dc63ebaa",
   "metadata": {},
   "outputs": [],
   "source": []
  }
 ],
 "metadata": {
  "kernelspec": {
   "display_name": "Python 3 (ipykernel)",
   "language": "python",
   "name": "python3"
  },
  "language_info": {
   "codemirror_mode": {
    "name": "ipython",
    "version": 3
   },
   "file_extension": ".py",
   "mimetype": "text/x-python",
   "name": "python",
   "nbconvert_exporter": "python",
   "pygments_lexer": "ipython3",
   "version": "3.11.4"
  }
 },
 "nbformat": 4,
 "nbformat_minor": 5
}
