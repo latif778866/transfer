{
 "cells": [
  {
   "cell_type": "markdown",
   "id": "03f8a9e1",
   "metadata": {},
   "source": [
    "# Syntax:\n",
    "\n",
    "File_object = open(r\"File_Name\", \"Access_Mode\")\n",
    "\n",
    "The file should exist in the same directory as the python program file else, full address of the file should be written on place of filename. Note: The r is placed before filename to prevent the characters in filename string to be treated as special character. For example, if there is \\temp in the file address, then \\t is treated as the tab character and error is raised of invalid address. The r makes the string raw, that is, it tells that the string is without any special characters. The r can be ignored if the file is in same directory and address is not being placed. "
   ]
  },
  {
   "cell_type": "code",
   "execution_count": 33,
   "id": "ebdb4ece",
   "metadata": {},
   "outputs": [],
   "source": [
    "# Creating a file\n",
    "file1 = open(r\"C:\\Users\\hp\\Desktop\\lattttif.txt\", \"w\")\n",
    "L = [\"This is Delhi \\n\", \"This is Paris \\n\", \"This is London \\n\"]"
   ]
  },
  {
   "cell_type": "code",
   "execution_count": 34,
   "id": "9c3207f8",
   "metadata": {},
   "outputs": [],
   "source": [
    "# Writing data to a file\n",
    "file1.write(\"Hello \\n\")\n",
    "file1.writelines(L)\n",
    "file1.close()  # to change file access modes"
   ]
  },
  {
   "cell_type": "code",
   "execution_count": 42,
   "id": "e34d3de5",
   "metadata": {},
   "outputs": [
    {
     "name": "stdout",
     "output_type": "stream",
     "text": [
      "Output of Read function is \n",
      "Hello \n",
      "This is Delhi \n",
      "This is Paris \n",
      "This is London \n",
      "Hello \n",
      "This is Delhi \n",
      "This is Paris \n",
      "This is London \n",
      "\n"
     ]
    }
   ],
   "source": [
    "file1 = open(r\"C:\\Users\\hp\\Desktop\\lattttif.txt\", \"r+\")\n",
    " \n",
    "print(\"Output of Read function is \")\n",
    "print(file1.read())"
   ]
  },
  {
   "cell_type": "code",
   "execution_count": 36,
   "id": "89e70e89",
   "metadata": {},
   "outputs": [
    {
     "name": "stdout",
     "output_type": "stream",
     "text": [
      "Output of Readline function is \n",
      "Hello \n",
      "\n",
      "\n"
     ]
    }
   ],
   "source": [
    "# seek(n) takes the file handle to the nth\n",
    "# byte from the beginning.\n",
    "file1.seek(0)\n",
    " \n",
    "print(\"Output of Readline function is \")\n",
    "print(file1.readline())\n",
    "print()"
   ]
  },
  {
   "cell_type": "code",
   "execution_count": 41,
   "id": "e4dc61ed",
   "metadata": {},
   "outputs": [
    {
     "ename": "ValueError",
     "evalue": "I/O operation on closed file.",
     "output_type": "error",
     "traceback": [
      "\u001b[1;31m---------------------------------------------------------------------------\u001b[0m",
      "\u001b[1;31mValueError\u001b[0m                                Traceback (most recent call last)",
      "Cell \u001b[1;32mIn[41], line 9\u001b[0m\n\u001b[0;32m      6\u001b[0m \u001b[38;5;66;03m# Creating a file\u001b[39;00m\n\u001b[0;32m      7\u001b[0m \u001b[38;5;28;01mwith\u001b[39;00m \u001b[38;5;28mopen\u001b[39m(\u001b[38;5;124mr\u001b[39m\u001b[38;5;124m\"\u001b[39m\u001b[38;5;124mC:\u001b[39m\u001b[38;5;124m\\\u001b[39m\u001b[38;5;124mUsers\u001b[39m\u001b[38;5;124m\\\u001b[39m\u001b[38;5;124mhp\u001b[39m\u001b[38;5;124m\\\u001b[39m\u001b[38;5;124mDesktop\u001b[39m\u001b[38;5;124m\\\u001b[39m\u001b[38;5;124mlllllatif.txt\u001b[39m\u001b[38;5;124m\"\u001b[39m, \u001b[38;5;124m\"\u001b[39m\u001b[38;5;124mw\u001b[39m\u001b[38;5;124m\"\u001b[39m) \u001b[38;5;28;01mas\u001b[39;00m file2:\n\u001b[0;32m      8\u001b[0m \t\u001b[38;5;66;03m# Writing data to a file\u001b[39;00m\n\u001b[1;32m----> 9\u001b[0m \tfile1\u001b[38;5;241m.\u001b[39mwrite(\u001b[38;5;124m\"\u001b[39m\u001b[38;5;124mHello \u001b[39m\u001b[38;5;130;01m\\n\u001b[39;00m\u001b[38;5;124m\"\u001b[39m)\n\u001b[0;32m     10\u001b[0m \tfile1\u001b[38;5;241m.\u001b[39mwritelines(L)\n\u001b[0;32m     11\u001b[0m \tfile1\u001b[38;5;241m.\u001b[39mclose() \u001b[38;5;66;03m# to change file access modes\u001b[39;00m\n",
      "\u001b[1;31mValueError\u001b[0m: I/O operation on closed file."
     ]
    }
   ],
   "source": [
    "# Program to show various ways to\n",
    "# read data from a file.\n",
    "\n",
    "L = [\"This is Delhi \\n\", \"This is Paris \\n\", \"This is London \\n\"]\n",
    "\n",
    "# Creating a file\n",
    "with open(r\"C:\\Users\\hp\\Desktop\\lllllatif.txt\", \"w\") as file2:\n",
    "\t# Writing data to a file\n",
    "\tfile1.write(\"Hello \\n\")\n",
    "\tfile1.writelines(L)\n",
    "\tfile1.close() # to change file access modes\n",
    "with open(\"myfile.txt\", \"r+\") as file2:\n",
    "\t# Reading from a file\n",
    "\tprint(file1.read())"
   ]
  },
  {
   "cell_type": "raw",
   "id": "d15c4757",
   "metadata": {},
   "source": [
    "'r' (Read):\n",
    "\n",
    "Opens an existing file for read-only access.\n",
    "If the file doesn't exist, it raises an error.\n",
    "It doesn't allow you to write or modify the file, only read its contents.\n",
    "\n",
    "'w' (Write):\n",
    "\n",
    "Opens an existing file for write access.\n",
    "If the file doesn't exist, it creates a new file.\n",
    "If the file already contains data, it will be completely overwritten with new data.\n",
    "It doesn't allow reading from the file.\n",
    "\n",
    "'a' (Append):\n",
    "\n",
    "Opens an existing file for append access.\n",
    "If the file doesn't exist, it creates a new file.\n",
    "It allows you to add data to the end of the file without overwriting the existing content.\n",
    "It doesn't allow reading from the file.\n",
    "\n",
    "'r+' (Read and Write):\n",
    "\n",
    "Opens an existing file for both reading and writing.\n",
    "If the file doesn't exist, it raises an error.\n",
    "It allows you to both read and write data to the file.\n",
    "The previous data in the file can be overwritten.\n",
    "\n",
    "'w+' (Write and Read):\n",
    "\n",
    "Opens an existing file for both writing and reading.\n",
    "If the file doesn't exist, it creates a new file.\n",
    "It allows you to both write new data and read data from the file.\n",
    "Existing data in the file will be completely overwritten.\n",
    "\n",
    "'a+' (Append and Read):\n",
    "\n",
    "Opens an existing file for both appending and reading.\n",
    "If the file doesn't exist, it creates a new file.\n",
    "It allows you to add data to the end of the file and read data from it.\n",
    "Existing data in the file won't be overwritten."
   ]
  },
  {
   "cell_type": "code",
   "execution_count": 51,
   "id": "1436bd11",
   "metadata": {},
   "outputs": [
    {
     "name": "stdout",
     "output_type": "stream",
     "text": [
      "Hello \n",
      "\n",
      "This is Delhi \n",
      "\n",
      "This is Paris \n",
      "\n",
      "This is London \n",
      "\n",
      "Hello \n",
      "\n",
      "This is Delhi \n",
      "\n",
      "This is Paris \n",
      "\n",
      "This is London \n",
      "\n"
     ]
    }
   ],
   "source": [
    "# a file named \"geek\", will be opened with the reading mode.\n",
    "file = open(r'C:\\Users\\hp\\Desktop\\lattttif.txt', 'r')\n",
    "\n",
    "# This will print every line one by one in the file\n",
    "for each in file:\n",
    "\tprint (each)\n"
   ]
  },
  {
   "cell_type": "code",
   "execution_count": 47,
   "id": "66557487",
   "metadata": {},
   "outputs": [
    {
     "name": "stdout",
     "output_type": "stream",
     "text": [
      "Hello \n",
      "This is Delhi \n",
      "This is Paris \n",
      "This is London \n",
      "Hello \n",
      "This is Delhi \n",
      "This is Paris \n",
      "This is London \n",
      "\n"
     ]
    }
   ],
   "source": [
    "# Python code to illustrate read() mode\n",
    "file = open(r'C:\\Users\\hp\\Desktop\\lattttif.txt', \"r\")\n",
    "print (file.read())\n"
   ]
  },
  {
   "cell_type": "code",
   "execution_count": 52,
   "id": "5638ef3f",
   "metadata": {},
   "outputs": [
    {
     "name": "stdout",
     "output_type": "stream",
     "text": [
      "Hello \n",
      "This is Delhi \n",
      "This is Paris \n",
      "This is London \n",
      "Hello \n",
      "This is Delhi \n",
      "This is Paris \n",
      "This is London \n",
      "\n"
     ]
    }
   ],
   "source": [
    "# Python code to illustrate with()\n",
    "with open(r'C:\\Users\\hp\\Desktop\\lattttif.txt') as file:\n",
    "\tdata = file.read()\n",
    "\n",
    "print(data)\n"
   ]
  },
  {
   "cell_type": "code",
   "execution_count": 72,
   "id": "d40bf3f0",
   "metadata": {},
   "outputs": [
    {
     "name": "stdout",
     "output_type": "stream",
     "text": [
      "Hell\n"
     ]
    }
   ],
   "source": [
    "# Python code to illustrate read() mode character wise\n",
    "file = open(r'C:\\Users\\hp\\Desktop\\lattttif.txt', \"r\")\n",
    "print (file.read(4))\n"
   ]
  },
  {
   "cell_type": "code",
   "execution_count": 71,
   "id": "3b036921",
   "metadata": {},
   "outputs": [
    {
     "name": "stdout",
     "output_type": "stream",
     "text": [
      "Hello\n"
     ]
    }
   ],
   "source": [
    "# Python code to illustrate read() mode character wise\n",
    "file = open(r'C:\\Users\\hp\\Desktop\\lattttif.txt', \"r\")\n",
    "print (file.read(5))\n"
   ]
  },
  {
   "cell_type": "code",
   "execution_count": 70,
   "id": "e1134446",
   "metadata": {},
   "outputs": [
    {
     "name": "stdout",
     "output_type": "stream",
     "text": [
      "Hello \n"
     ]
    }
   ],
   "source": [
    "# Python code to illustrate read() mode character wise\n",
    "file = open(r'C:\\Users\\hp\\Desktop\\lattttif.txt', \"r\")\n",
    "print (file.read(6))\n"
   ]
  },
  {
   "cell_type": "code",
   "execution_count": 69,
   "id": "9f019ac8",
   "metadata": {},
   "outputs": [
    {
     "name": "stdout",
     "output_type": "stream",
     "text": [
      "Hello \n",
      "\n"
     ]
    }
   ],
   "source": [
    "# Python code to illustrate read() mode character wise\n",
    "file = open(r'C:\\Users\\hp\\Desktop\\lattttif.txt', \"r\")\n",
    "print (file.read(7))\n"
   ]
  },
  {
   "cell_type": "code",
   "execution_count": 73,
   "id": "e058bb93",
   "metadata": {},
   "outputs": [
    {
     "name": "stdout",
     "output_type": "stream",
     "text": [
      "Hello \n",
      "T\n"
     ]
    }
   ],
   "source": [
    "# Python code to illustrate read() mode character wise\n",
    "file = open(r'C:\\Users\\hp\\Desktop\\lattttif.txt', \"r\")\n",
    "print (file.read(8))\n"
   ]
  },
  {
   "cell_type": "code",
   "execution_count": 74,
   "id": "ca6e7f6a",
   "metadata": {},
   "outputs": [
    {
     "name": "stdout",
     "output_type": "stream",
     "text": [
      "['Hello']\n",
      "['This', 'is', 'Delhi']\n",
      "['This', 'is', 'Paris']\n",
      "['This', 'is', 'London']\n",
      "['Hello']\n",
      "['This', 'is', 'Delhi']\n",
      "['This', 'is', 'Paris']\n",
      "['This', 'is', 'London']\n"
     ]
    }
   ],
   "source": [
    "# Python code to illustrate split() function\n",
    "with open(r'C:\\Users\\hp\\Desktop\\lattttif.txt', \"r\") as file:\n",
    "\tdata = file.readlines()\n",
    "\tfor line in data:\n",
    "\t\tword = line.split()\n",
    "\t\tprint (word)\n"
   ]
  },
  {
   "cell_type": "code",
   "execution_count": null,
   "id": "889ad51f",
   "metadata": {},
   "outputs": [],
   "source": [
    "# Python code to illustrate with() alongwith write()\n",
    "with open(# Python code to illustrate with() alongwith write()\n",
    "with open(r'C:\\Users\\hp\\Desktop\\lattttif.txt', \"w\") as f:\n",
    "\tf.write(\"Hello World!!!\")\n"
   ]
  }
 ],
 "metadata": {
  "kernelspec": {
   "display_name": "Python 3 (ipykernel)",
   "language": "python",
   "name": "python3"
  },
  "language_info": {
   "codemirror_mode": {
    "name": "ipython",
    "version": 3
   },
   "file_extension": ".py",
   "mimetype": "text/x-python",
   "name": "python",
   "nbconvert_exporter": "python",
   "pygments_lexer": "ipython3",
   "version": "3.11.4"
  }
 },
 "nbformat": 4,
 "nbformat_minor": 5
}
