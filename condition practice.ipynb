{
 "cells": [
  {
   "cell_type": "code",
   "execution_count": 2,
   "id": "539bff48",
   "metadata": {},
   "outputs": [
    {
     "name": "stdout",
     "output_type": "stream",
     "text": [
      "enter your age :68\n",
      "you need to retire\n"
     ]
    }
   ],
   "source": [
    "age=int(input(\"enter your age :\"))\n",
    "if age>65:\n",
    "    print(\"you need to retire\")\n",
    "else:\n",
    "    print(\"you should work\")"
   ]
  },
  {
   "cell_type": "code",
   "execution_count": 4,
   "id": "204eca62",
   "metadata": {},
   "outputs": [
    {
     "name": "stdout",
     "output_type": "stream",
     "text": [
      "enter the first number :5\n",
      "enter 2nd number :3\n",
      "enter 3rd number :8\n",
      "enter the 4th number :1\n",
      "the greatest number is :  8\n"
     ]
    }
   ],
   "source": [
    "n1=input(\"enter the first number :\")\n",
    "n2=input(\"enter 2nd number :\")\n",
    "n3=input(\"enter 3rd number :\")\n",
    "n4=input(\"enter the 4th number :\")\n",
    "if n1>n2:\n",
    "    m1=n1\n",
    "else:\n",
    "    m1=n2\n",
    "if n3>n4:\n",
    "    m2=n3\n",
    "else:\n",
    "    m2=n4\n",
    "if m2>m1:\n",
    "    n=m2\n",
    "else:\n",
    "    n=m1\n",
    "print(\"the greatest number is : \",n)\n",
    "    "
   ]
  },
  {
   "cell_type": "code",
   "execution_count": 9,
   "id": "052dc166",
   "metadata": {},
   "outputs": [
    {
     "data": {
      "text/plain": [
       "300"
      ]
     },
     "execution_count": 9,
     "metadata": {},
     "output_type": "execute_result"
    }
   ],
   "source": [
    "a={'name':['latif','pikku','ekram'],'income':[100,200,300]}\n",
    "a['name'][1][4]\n",
    "a['income'][2]"
   ]
  },
  {
   "cell_type": "code",
   "execution_count": null,
   "id": "c2b683c4",
   "metadata": {},
   "outputs": [],
   "source": []
  }
 ],
 "metadata": {
  "kernelspec": {
   "display_name": "Python 3 (ipykernel)",
   "language": "python",
   "name": "python3"
  },
  "language_info": {
   "codemirror_mode": {
    "name": "ipython",
    "version": 3
   },
   "file_extension": ".py",
   "mimetype": "text/x-python",
   "name": "python",
   "nbconvert_exporter": "python",
   "pygments_lexer": "ipython3",
   "version": "3.11.4"
  }
 },
 "nbformat": 4,
 "nbformat_minor": 5
}
