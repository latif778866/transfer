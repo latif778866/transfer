{
 "cells": [
  {
   "cell_type": "code",
   "execution_count": 7,
   "id": "23fb4646",
   "metadata": {},
   "outputs": [
    {
     "name": "stdout",
     "output_type": "stream",
     "text": [
      "10 Hello World\n"
     ]
    }
   ],
   "source": [
    "def print_it(i,a,str):\n",
    "    print(i,a,str)\n",
    "print_it(10, \"Hello\", \"World\")"
   ]
  },
  {
   "cell_type": "code",
   "execution_count": 22,
   "id": "991dccc2",
   "metadata": {},
   "outputs": [
    {
     "name": "stdout",
     "output_type": "stream",
     "text": [
      "\n",
      "10 Hello World "
     ]
    }
   ],
   "source": [
    "def print_it(*args):\n",
    "    for i in args:\n",
    "        print(i,end=' ')\n",
    "print_it(10, \"Hello\", \"World\")"
   ]
  },
  {
   "cell_type": "code",
   "execution_count": 15,
   "id": "6ded0343",
   "metadata": {},
   "outputs": [
    {
     "name": "stdout",
     "output_type": "stream",
     "text": [
      "10\n",
      "Hello\n",
      "World\n"
     ]
    }
   ],
   "source": [
    "def print_it(*args):\n",
    "    for i in args:\n",
    "        print(i)\n",
    "print_it(10, \"Hello\", \"World\")"
   ]
  },
  {
   "cell_type": "code",
   "execution_count": 16,
   "id": "489c675a",
   "metadata": {},
   "outputs": [
    {
     "name": "stdout",
     "output_type": "stream",
     "text": [
      "10\n",
      "Hello\n",
      "World\n"
     ]
    }
   ],
   "source": [
    "def print_it(*args):\n",
    "    for i in args:\n",
    "        print(i,end='\\n')\n",
    "print_it(10, \"Hello\", \"World\")"
   ]
  },
  {
   "cell_type": "code",
   "execution_count": 17,
   "id": "47abc288",
   "metadata": {},
   "outputs": [
    {
     "name": "stdout",
     "output_type": "stream",
     "text": [
      "10\tHello\tWorld\t"
     ]
    }
   ],
   "source": [
    "def print_it(*args):\n",
    "    for i in args:\n",
    "        print(i,end='\\t')\n",
    "print_it(10, \"Hello\", \"World\")"
   ]
  },
  {
   "cell_type": "code",
   "execution_count": 18,
   "id": "189b821c",
   "metadata": {},
   "outputs": [
    {
     "name": "stdout",
     "output_type": "stream",
     "text": [
      "10                         Hello                         World                         "
     ]
    }
   ],
   "source": [
    "def print_it(*args):\n",
    "    for i in args:\n",
    "        print(i,end='                         ')\n",
    "print_it(10, \"Hello\", \"World\")"
   ]
  },
  {
   "cell_type": "code",
   "execution_count": 24,
   "id": "9ab3a0b8",
   "metadata": {},
   "outputs": [
    {
     "name": "stdout",
     "output_type": "stream",
     "text": [
      "(10, 'Hello', 'World')\n",
      "10 Hello World "
     ]
    }
   ],
   "source": [
    "def print_it(*args):\n",
    "    print(args)\n",
    "    for i in args:\n",
    "        print(i,end=' ')\n",
    "print_it(10, \"Hello\", \"World\")"
   ]
  },
  {
   "cell_type": "code",
   "execution_count": 25,
   "id": "2ad9eb93",
   "metadata": {},
   "outputs": [
    {
     "name": "stdout",
     "output_type": "stream",
     "text": [
      "10 Hello World\n",
      "10 Hello World "
     ]
    }
   ],
   "source": [
    "def print_it(*args):\n",
    "    print(*args)\n",
    "    for i in args:\n",
    "        print(i,end=' ')\n",
    "print_it(10, \"Hello\", \"World\")"
   ]
  },
  {
   "cell_type": "code",
   "execution_count": 26,
   "id": "6a187a25",
   "metadata": {},
   "outputs": [
    {
     "name": "stdout",
     "output_type": "stream",
     "text": [
      "10 Hello World "
     ]
    }
   ],
   "source": [
    "def print_it(*args):\n",
    "    for i in args:\n",
    "        print(i,end=' ')\n",
    "print_it(10, \"Hello\", \"World\")"
   ]
  },
  {
   "cell_type": "raw",
   "id": "90d1e82a",
   "metadata": {},
   "source": [
    "# In the print_it function you've provided, end=' ' is a parameter for the print function. It specifies the character(s) that should be used to separate the values when they are printed. In this case, end=' ' sets a space character as the separator between the values when they are printed.\n",
    "\n",
    "Let's break down what happens in your print_it function with the given input print_it(10, \"Hello\", \"World\"):\n",
    "\n",
    "*args is a special syntax in Python that allows you to pass a variable number of arguments to a function. In this case, it collects all the arguments passed to the print_it function into a tuple named args. So, args will contain (10, \"Hello\", \"World\").\n",
    "\n",
    "The for loop iterates over each element in the args tuple.\n",
    "\n",
    "Inside the loop, the print function is used to print each element in args. The end=' ' argument specifies that a space character should be added at the end of each printed element instead of the default newline character ('\\n'), which is used to separate printed values by default.\n",
    "\n",
    "So, when you call print_it(10, \"Hello\", \"World\"), the function will print the values like this:\n",
    "\n",
    "10 Hello World\n",
    "\n",
    "Notice that there is a space character (' ') between each value because of the end=' ' parameter, and the values are printed on the same line due to this parameter. If you didn't specify end=' ', each value would be printed on a separate line by default.\n"
   ]
  },
  {
   "cell_type": "code",
   "execution_count": 36,
   "id": "7583db2c",
   "metadata": {},
   "outputs": [
    {
     "name": "stdout",
     "output_type": "stream",
     "text": [
      "a 10 b 9.76 c World "
     ]
    }
   ],
   "source": [
    "def print_it(**kwargs):\n",
    "    for i,k in kwargs.items():\n",
    "        print(i,k,end=' ')\n",
    "print_it(a=10, b=9.76, c=\"World\")"
   ]
  },
  {
   "cell_type": "raw",
   "id": "7557452f",
   "metadata": {},
   "source": [
    "In the print_it function you've provided, **kwargs is used to collect keyword arguments into a dictionary. Keyword arguments are passed to a function with a name-value pair syntax, like name=value. In this case, when you call print_it(a=10, b=9.76, c=\"World\"), it collects these keyword arguments into the kwargs dictionary, which would look like this:\n",
    "\n",
    "kwargs = {'a': 10, 'b': 9.76, 'c': 'World'}\n",
    "\n",
    "Now, let's break down how the function works step by step:\n",
    "\n",
    "**kwargs collects the keyword arguments passed to the function into a dictionary called kwargs. In this case, kwargs will be equal to {'a': 10, 'b': 9.76, 'c': 'World'}.\n",
    "\n",
    "The for loop iterates over the items (key-value pairs) in the kwargs dictionary using the .items() method. In each iteration, i will hold the key (the argument name), and k will hold the corresponding value.\n",
    "\n",
    "Inside the loop, the print function is used to print both the key and value for each item in kwargs. The end=' ' parameter specifies that a space character should be added at the end of each printed item instead of the default newline character ('\\n'), which separates printed items by default.\n",
    "\n",
    "So, when you call print_it(a=10, b=9.76, c=\"World\"), the function will print the key-value pairs like this:\n",
    "\n",
    "a 10 b 9.76 c World\n",
    "\n",
    "Each key is followed by its corresponding value, with a space character (' ') separating them due to the end=' ' parameter. The values are printed on the same line because of this parameter. If you didn't specify end=' ', each key-value pair would be printed on a separate line by default."
   ]
  },
  {
   "cell_type": "code",
   "execution_count": 43,
   "id": "3f4e9356",
   "metadata": {},
   "outputs": [
    {
     "name": "stdout",
     "output_type": "stream",
     "text": [
      "student Sakib\n",
      "age 20\n",
      "country Bangladesh\n"
     ]
    }
   ],
   "source": [
    "def print_it(**kwargs):\n",
    "    for i,k in kwargs.items():\n",
    "        print(i,k)\n",
    "dct={'student':'Sakib','age':20,'country':'Bangladesh'}\n",
    "print_it(**dct)"
   ]
  },
  {
   "cell_type": "code",
   "execution_count": 46,
   "id": "28bc1cb3",
   "metadata": {},
   "outputs": [
    {
     "name": "stdout",
     "output_type": "stream",
     "text": [
      "10 20 (30, 35) 40 50 {'a': 10, 'b': 20, 'c': 30, 'd': 40, 'e': 50}\n"
     ]
    }
   ],
   "source": [
    "def print_it(i,j,*args,x,y,**kwargs):\n",
    "    print(i,j,args,x,y,kwargs)\n",
    "print_it(10,20,30,35,x=40,y=50,a=10,b=20,c=30,d=40,e=50)"
   ]
  },
  {
   "cell_type": "code",
   "execution_count": null,
   "id": "ba9bbe03",
   "metadata": {},
   "outputs": [],
   "source": [
    "def"
   ]
  }
 ],
 "metadata": {
  "kernelspec": {
   "display_name": "Python 3 (ipykernel)",
   "language": "python",
   "name": "python3"
  },
  "language_info": {
   "codemirror_mode": {
    "name": "ipython",
    "version": 3
   },
   "file_extension": ".py",
   "mimetype": "text/x-python",
   "name": "python",
   "nbconvert_exporter": "python",
   "pygments_lexer": "ipython3",
   "version": "3.11.4"
  }
 },
 "nbformat": 4,
 "nbformat_minor": 5
}
