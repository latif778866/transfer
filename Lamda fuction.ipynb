{
 "cells": [
  {
   "cell_type": "code",
   "execution_count": 4,
   "id": "040ea940",
   "metadata": {},
   "outputs": [
    {
     "name": "stdout",
     "output_type": "stream",
     "text": [
      "125\n"
     ]
    }
   ],
   "source": [
    "p=lambda n:n*n*n\n",
    "print(p(5))"
   ]
  },
  {
   "cell_type": "code",
   "execution_count": 10,
   "id": "3a0e9b3b",
   "metadata": {},
   "outputs": [
    {
     "name": "stdout",
     "output_type": "stream",
     "text": [
      "125\n"
     ]
    }
   ],
   "source": [
    "print((lambda n:n*n*n)(5))"
   ]
  },
  {
   "cell_type": "code",
   "execution_count": 24,
   "id": "1772ebb5",
   "metadata": {},
   "outputs": [
    {
     "name": "stdout",
     "output_type": "stream",
     "text": [
      "4.333333333333333\n"
     ]
    }
   ],
   "source": [
    "q=lambda x,y,z:(x+y+z)/3\n",
    "print(q(1,5,7))"
   ]
  },
  {
   "cell_type": "code",
   "execution_count": 13,
   "id": "255bebfd",
   "metadata": {},
   "outputs": [
    {
     "name": "stdout",
     "output_type": "stream",
     "text": [
      "4.333333333333333\n"
     ]
    }
   ],
   "source": [
    "print((lambda x,y,z:(x+y+z)/3)(1,5,7))"
   ]
  },
  {
   "cell_type": "code",
   "execution_count": 15,
   "id": "270623b7",
   "metadata": {},
   "outputs": [
    {
     "name": "stdout",
     "output_type": "stream",
     "text": [
      "LATIF\n"
     ]
    }
   ],
   "source": [
    "print((lambda s:s.lstrip().rstrip().upper())('    latif     '))"
   ]
  },
  {
   "cell_type": "markdown",
   "id": "d9e9b838",
   "metadata": {},
   "source": [
    "lambda s: s.lstrip().rstrip().upper(): This lambda function takes a single argument s and performs the following operations on it:\n",
    "\n",
    "s.lstrip(): Removes leading (left) whitespace from the string.\n",
    "s.rstrip(): Removes trailing (right) whitespace from the string.\n",
    "s.upper(): Converts the string to uppercase."
   ]
  },
  {
   "cell_type": "code",
   "execution_count": 18,
   "id": "da020d4f",
   "metadata": {},
   "outputs": [
    {
     "name": "stdout",
     "output_type": "stream",
     "text": [
      "    LATIF\n"
     ]
    }
   ],
   "source": [
    "print((lambda s:s.rstrip().upper())('    latif     '))"
   ]
  },
  {
   "cell_type": "code",
   "execution_count": 19,
   "id": "ff76a7f0",
   "metadata": {},
   "outputs": [
    {
     "name": "stdout",
     "output_type": "stream",
     "text": [
      "    LATIF     \n"
     ]
    }
   ],
   "source": [
    "print((lambda s:s.upper())('    latif     '))"
   ]
  },
  {
   "cell_type": "code",
   "execution_count": 22,
   "id": "41eafecc",
   "metadata": {},
   "outputs": [
    {
     "name": "stdout",
     "output_type": "stream",
     "text": [
      "LATIF\n"
     ]
    }
   ],
   "source": [
    "print((lambda s:s.upper())('latif'))"
   ]
  },
  {
   "cell_type": "code",
   "execution_count": 25,
   "id": "dfd361d1",
   "metadata": {},
   "outputs": [
    {
     "name": "stdout",
     "output_type": "stream",
     "text": [
      "LATIF\n"
     ]
    }
   ],
   "source": [
    "r=lambda s:s.upper()\n",
    "print(r('latif'))"
   ]
  },
  {
   "cell_type": "code",
   "execution_count": 28,
   "id": "dd0b5d38",
   "metadata": {},
   "outputs": [
    {
     "name": "stdout",
     "output_type": "stream",
     "text": [
      "           LATIF\n"
     ]
    }
   ],
   "source": [
    "r=lambda s:s.upper()\n",
    "print(r('           latif'))"
   ]
  },
  {
   "cell_type": "code",
   "execution_count": 29,
   "id": "04c7f32b",
   "metadata": {},
   "outputs": [
    {
     "name": "stdout",
     "output_type": "stream",
     "text": [
      "LATIF\n"
     ]
    }
   ],
   "source": [
    "r=lambda s:s.lstrip().upper()\n",
    "print(r('           latif'))"
   ]
  },
  {
   "cell_type": "code",
   "execution_count": 34,
   "id": "7c495a2f",
   "metadata": {},
   "outputs": [
    {
     "name": "stdout",
     "output_type": "stream",
     "text": [
      "6.0\n",
      "6.0\n",
      "66\n"
     ]
    }
   ],
   "source": [
    "list1=[1,2,3,4,5,6,7,8,9,10,11]\n",
    "list2=[1,3,5,7,9,11]\n",
    "print((lambda x:sum(x)/len(x))(list1))\n",
    "print((lambda x:sum(x)/len(x))(list2))  \n",
    "print(sum(list1))"
   ]
  },
  {
   "cell_type": "code",
   "execution_count": null,
   "id": "283d10f5",
   "metadata": {},
   "outputs": [],
   "source": []
  }
 ],
 "metadata": {
  "kernelspec": {
   "display_name": "Python 3 (ipykernel)",
   "language": "python",
   "name": "python3"
  },
  "language_info": {
   "codemirror_mode": {
    "name": "ipython",
    "version": 3
   },
   "file_extension": ".py",
   "mimetype": "text/x-python",
   "name": "python",
   "nbconvert_exporter": "python",
   "pygments_lexer": "ipython3",
   "version": "3.11.4"
  }
 },
 "nbformat": 4,
 "nbformat_minor": 5
}
