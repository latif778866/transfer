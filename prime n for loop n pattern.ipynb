{
 "cells": [
  {
   "cell_type": "code",
   "execution_count": 17,
   "id": "2e387626",
   "metadata": {},
   "outputs": [
    {
     "name": "stdout",
     "output_type": "stream",
     "text": [
      "enter the number :3\n",
      "1x3=3\n",
      "2x3=6\n",
      "3x3=9\n",
      "4x3=12\n",
      "5x3=15\n"
     ]
    }
   ],
   "source": [
    "n=int(input(\"enter the number :\"))\n",
    "for i in range(1,6):\n",
    "    print(str(i)+\"x\"+str(n)+\"=\"+str(i*n))"
   ]
  },
  {
   "cell_type": "code",
   "execution_count": 21,
   "id": "57f12843",
   "metadata": {},
   "outputs": [
    {
     "name": "stdout",
     "output_type": "stream",
     "text": [
      "gadhaa  pikku\n",
      "gadhaa  pucchu\n"
     ]
    }
   ],
   "source": [
    "l=[\"latif\",\"pikku\",\"pucchu\",\"ekram\"]\n",
    "for item in l:\n",
    "    if item.startswith(\"p\"):\n",
    "        print(\"gadhaa  \"+item)"
   ]
  },
  {
   "cell_type": "code",
   "execution_count": 32,
   "id": "0c08a806",
   "metadata": {},
   "outputs": [
    {
     "name": "stdout",
     "output_type": "stream",
     "text": [
      "gadha pikku\n",
      "gadha pucchu\n"
     ]
    }
   ],
   "source": [
    "m=[\"latif\",\"pikku\",\"pucchu\",\"ekram\"]\n",
    "for x in m:\n",
    "    i=0\n",
    "    if x[i]==\"p\":\n",
    "        print(\"gadha \"+x)\n",
    "    i+=1"
   ]
  },
  {
   "cell_type": "code",
   "execution_count": 36,
   "id": "cf11940d",
   "metadata": {},
   "outputs": [
    {
     "name": "stdout",
     "output_type": "stream",
     "text": [
      "enter the number:9\n",
      "the number is not prime\n"
     ]
    }
   ],
   "source": [
    "n=int(input(\"enter the number:\"))\n",
    "prime=1\n",
    "for i in range(2,n):\n",
    "    if(n%i==0):\n",
    "        prime=0\n",
    "        break\n",
    "if (prime==1):\n",
    "    print(\"the number is prime\")\n",
    "else:\n",
    "    print(\"the number is not prime\")\n"
   ]
  },
  {
   "cell_type": "code",
   "execution_count": 39,
   "id": "a83ee68b",
   "metadata": {
    "scrolled": false
   },
   "outputs": [
    {
     "name": "stdout",
     "output_type": "stream",
     "text": [
      "enter the number of rows :5\n",
      "*\n",
      "**\n",
      "***\n",
      "****\n",
      "*****\n"
     ]
    }
   ],
   "source": [
    "n=int(input(\"enter the number of rows :\"))\n",
    "for i in range(n):\n",
    "    print(\"*\"*(i+1))"
   ]
  },
  {
   "cell_type": "code",
   "execution_count": null,
   "id": "dfa849f4",
   "metadata": {},
   "outputs": [],
   "source": [
    "f=open('C:\\Users\\hp\\Desktop\\latif.txt','r')\n"
   ]
  }
 ],
 "metadata": {
  "kernelspec": {
   "display_name": "Python 3 (ipykernel)",
   "language": "python",
   "name": "python3"
  },
  "language_info": {
   "codemirror_mode": {
    "name": "ipython",
    "version": 3
   },
   "file_extension": ".py",
   "mimetype": "text/x-python",
   "name": "python",
   "nbconvert_exporter": "python",
   "pygments_lexer": "ipython3",
   "version": "3.11.4"
  }
 },
 "nbformat": 4,
 "nbformat_minor": 5
}
