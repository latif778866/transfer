{
 "cells": [
  {
   "cell_type": "code",
   "execution_count": 5,
   "id": "34a80030",
   "metadata": {},
   "outputs": [
    {
     "name": "stdout",
     "output_type": "stream",
     "text": [
      "80.0\n"
     ]
    }
   ],
   "source": [
    "def percent(marks):\n",
    "    n=(marks[0]+marks[1]+marks[2]+marks[3])/4\n",
    "    return n\n",
    "marks=[78,98,67,77]\n",
    "percentage=percent(marks)\n",
    "print(percentage)"
   ]
  },
  {
   "cell_type": "code",
   "execution_count": 8,
   "id": "32b032aa",
   "metadata": {},
   "outputs": [
    {
     "name": "stdout",
     "output_type": "stream",
     "text": [
      "padhai karle bhai latif\n"
     ]
    }
   ],
   "source": [
    "def greet(name):\n",
    "    print(\"padhai karle bhai \"+name)\n",
    "greet(\"latif\")"
   ]
  },
  {
   "cell_type": "code",
   "execution_count": 16,
   "id": "5c1dcd8c",
   "metadata": {},
   "outputs": [
    {
     "name": "stdout",
     "output_type": "stream",
     "text": [
      "enter the number:5\n",
      "the factorial of the number is : 120\n"
     ]
    }
   ],
   "source": [
    "n=int(input(\"enter the number:\"))\n",
    "print(\"the factorial of the number is : \"+str(fact(n)))\n",
    "def fact(n):\n",
    "    if (n==1 or n==0):\n",
    "        return 1\n",
    "    else:\n",
    "        return n*fact(n-1)"
   ]
  },
  {
   "cell_type": "code",
   "execution_count": 17,
   "id": "2a6b93d1",
   "metadata": {},
   "outputs": [
    {
     "name": "stdout",
     "output_type": "stream",
     "text": [
      "enter the number:6\n",
      "the factorial of the number is :  720\n"
     ]
    }
   ],
   "source": [
    "n=int(input(\"enter the number:\"))\n",
    "print(\"the factorial of the number is : \",+fact(n))\n",
    "def fact(n):\n",
    "    if (n==1 or n==0):\n",
    "        return 1\n",
    "    else:\n",
    "        return n*fact(n-1)"
   ]
  },
  {
   "cell_type": "code",
   "execution_count": 7,
   "id": "ebfa0e01",
   "metadata": {
    "scrolled": true
   },
   "outputs": [
    {
     "name": "stdout",
     "output_type": "stream",
     "text": [
      "{'name': 'latif', 'roll': '101', 'branch': 'ICE', 'list': [33, 55, 66], 'gali': 'gaandu'}\n"
     ]
    },
    {
     "data": {
      "text/plain": [
       "'i'"
      ]
     },
     "execution_count": 7,
     "metadata": {},
     "output_type": "execute_result"
    }
   ],
   "source": [
    "a={\"name\":\"latif\",\"roll\":\"101\",\"branch\":\"ICE\",\"list\":[33,55,66]}\n",
    "a.update({\"gali\":\"gaandu\"})\n",
    "print(a)\n",
    "b=a.get(\"name\")\n",
    "b[3]"
   ]
  },
  {
   "cell_type": "code",
   "execution_count": 11,
   "id": "c218fffa",
   "metadata": {},
   "outputs": [
    {
     "name": "stdout",
     "output_type": "stream",
     "text": [
      "{1, 2, 3, 4, 5, 6, 7}\n",
      "{1, 2, 3, 4, 5, 6, 7, 10}\n"
     ]
    }
   ],
   "source": [
    "a={3,5,7,6,1,2,4,4,1,5}\n",
    "print(a)\n",
    "a.add(10)\n",
    "print(a)"
   ]
  },
  {
   "cell_type": "code",
   "execution_count": 9,
   "id": "1348ca31",
   "metadata": {},
   "outputs": [
    {
     "name": "stdout",
     "output_type": "stream",
     "text": [
      "enter the number of rows :5\n",
      "*****\n",
      "*\n",
      " \n",
      "  \n",
      "   \n",
      "*\n",
      "*\n",
      " \n",
      "  \n",
      "   \n",
      "*\n",
      "*\n",
      " \n",
      "  \n",
      "   \n",
      "*\n",
      "*****\n"
     ]
    }
   ],
   "source": [
    "n=int(input(\"enter the number of rows :\"))\n",
    "for i in range(n):\n",
    "    if(i==0 or i==n-1):\n",
    "        print(\"*\"*n)\n",
    "    else:\n",
    "        for k in range(n):\n",
    "            if(k==0 or k==n-1):\n",
    "                print(\"*\")\n",
    "            else:\n",
    "                print(\" \"*k)"
   ]
  },
  {
   "cell_type": "code",
   "execution_count": 29,
   "id": "c8c86f3f",
   "metadata": {},
   "outputs": [
    {
     "ename": "SyntaxError",
     "evalue": "(unicode error) 'unicodeescape' codec can't decode bytes in position 2-3: truncated \\UXXXXXXXX escape (1828574157.py, line 1)",
     "output_type": "error",
     "traceback": [
      "\u001b[1;36m  Cell \u001b[1;32mIn[29], line 1\u001b[1;36m\u001b[0m\n\u001b[1;33m    f=open('C:\\Users\\hp\\Desktop\\latif.txt''w')\u001b[0m\n\u001b[1;37m                                             ^\u001b[0m\n\u001b[1;31mSyntaxError\u001b[0m\u001b[1;31m:\u001b[0m (unicode error) 'unicodeescape' codec can't decode bytes in position 2-3: truncated \\UXXXXXXXX escape\n"
     ]
    }
   ],
   "source": [
    "f=open('C:\\Users\\hp\\Desktop\\latif.txt''w')\n",
    "data=f.write(\"kya baat hai bhai jui\")\n",
    "f.close()"
   ]
  },
  {
   "cell_type": "code",
   "execution_count": null,
   "id": "dcd1959a",
   "metadata": {},
   "outputs": [],
   "source": []
  }
 ],
 "metadata": {
  "kernelspec": {
   "display_name": "Python 3 (ipykernel)",
   "language": "python",
   "name": "python3"
  },
  "language_info": {
   "codemirror_mode": {
    "name": "ipython",
    "version": 3
   },
   "file_extension": ".py",
   "mimetype": "text/x-python",
   "name": "python",
   "nbconvert_exporter": "python",
   "pygments_lexer": "ipython3",
   "version": "3.11.4"
  }
 },
 "nbformat": 4,
 "nbformat_minor": 5
}
